{
 "cells": [
  {
   "cell_type": "markdown",
   "metadata": {},
   "source": [
    "The dataset we are going to analyze is a tweet archive of WeRateDogs. It consists of tweet content and related information like favorite numbers or retweet numbers. We can think about investigating dog's information but this dataset has only dog name, dog ratings, dog image predictions so we don't have a lot of things to look at about dogs. So we are going to simply get insights about tweet itself and some dog insights we could get.\n",
    "\n",
    "The 3 questions I asked for this dataset is the following.\n",
    "\n",
    "- Q1 - What is the most popular source to upload the tweet?\n",
    "- Q2 - How many tweets per year?\n",
    "- Q3 - What dog has the best score of all?\n",
    "\n",
    "First, what is the most popular source to upload the tweet? When we look inside this tweet source we could find that there are only 4 sources in total. iPhone, vine.co, twitter.com, Tweetdeck. We can see in the following picture that most of the tweet was uploaded by iPhone using the twitter app.\n",
    "\n",
    "![source](https://github.com/IllgamhoDuck/DAND/blob/master/P4_wrangle_and_analyze_data/source.jpg?raw=true)\n",
    "\n",
    "Other tweets are uploaded by third-party vine, Tweetdeck, or twitter web.\n",
    "\n",
    "Second, How many tweets per year? As the image shows tweet per year was 689, 1175, 477 for 2015, 2016 and 2017 respectively. And 2016 was the year that has the most tweet per year!\n",
    "\n",
    "![tweet_per_year](https://github.com/IllgamhoDuck/DAND/blob/master/P4_wrangle_and_analyze_data/tweets_per_year.png?raw=true)\n",
    "\n",
    "But if we dive a little bit deeper the 2015 tweet was started from November and 2017 tweet ends in August. Only the year that has the tweet for full 1 year is 2016. Then we can consider which year has the most tweet per month in average?\n",
    "\n",
    "2015 - 2 month / 689, 2016 - 12 month / 1175, 2017 for 8 month / 477. Tweet per month 2015 is approximately 340, 2016 is 100, 2017 60. So we can think that the number of tweets uploaded per month is reducing year by year.\n",
    "\n",
    "Third, What dog has the best score of all? Because the ratings consist of numerator and denominator we have to make it to fractional number. The Dog which had the highest score among all was Atticus! This dog had 1776/10 ratings! This is an outlier dog!\n",
    "\n",
    "![Atticus](https://pbs.twimg.com/media/CmgBZ7kWcAAlzFD.jpg)\n",
    "\n",
    "We looked at the dataset and now have 3 insights. WeRateDogs often post tweets with iPhone and the average tweet per month is getting lower year by year. The dog that had the highest score was Atticus with a 1776/10 rating! \n",
    "\n",
    "We could go deeper with this dataset like analyzing retweet numbers of the favorite numbers to see the prospect of the popularity of WeRateDogs or if we want to do prediction we can connect the dog image to score. There are many possibilities for data analysis. "
   ]
  }
 ],
 "metadata": {
  "kernelspec": {
   "display_name": "Python 3",
   "language": "python",
   "name": "python3"
  },
  "language_info": {
   "codemirror_mode": {
    "name": "ipython",
    "version": 3
   },
   "file_extension": ".py",
   "mimetype": "text/x-python",
   "name": "python",
   "nbconvert_exporter": "python",
   "pygments_lexer": "ipython3",
   "version": "3.6.3"
  }
 },
 "nbformat": 4,
 "nbformat_minor": 2
}
